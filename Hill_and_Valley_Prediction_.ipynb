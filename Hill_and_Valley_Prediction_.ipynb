{
 "cells": [
  {
   "cell_type": "markdown",
   "id": "320dc8e9",
   "metadata": {},
   "source": [
    "\n",
    "# IMPORT DATA"
   ]
  },
  {
   "cell_type": "code",
   "execution_count": 1,
   "id": "45590fb0",
   "metadata": {},
   "outputs": [],
   "source": [
    "import pandas as pd\n",
    "import numpy as np"
   ]
  },
  {
   "cell_type": "markdown",
   "id": "61c0efb6",
   "metadata": {},
   "source": [
    "# IMPORT CSV FILE AS DATAFRAME"
   ]
  },
  {
   "cell_type": "code",
   "execution_count": 2,
   "id": "f600d8cf",
   "metadata": {},
   "outputs": [],
   "source": [
    "df=pd.read_csv('https://github.com/ybifoundation/Dataset/raw/main/Hill%20Valley%20Dataset.csv')"
   ]
  },
  {
   "cell_type": "markdown",
   "id": "969988ac",
   "metadata": {},
   "source": [
    "# ANALYZE DATA"
   ]
  },
  {
   "cell_type": "code",
   "execution_count": 3,
   "id": "30296b79",
   "metadata": {},
   "outputs": [
    {
     "data": {
      "text/html": [
       "<div>\n",
       "<style scoped>\n",
       "    .dataframe tbody tr th:only-of-type {\n",
       "        vertical-align: middle;\n",
       "    }\n",
       "\n",
       "    .dataframe tbody tr th {\n",
       "        vertical-align: top;\n",
       "    }\n",
       "\n",
       "    .dataframe thead th {\n",
       "        text-align: right;\n",
       "    }\n",
       "</style>\n",
       "<table border=\"1\" class=\"dataframe\">\n",
       "  <thead>\n",
       "    <tr style=\"text-align: right;\">\n",
       "      <th></th>\n",
       "      <th>V1</th>\n",
       "      <th>V2</th>\n",
       "      <th>V3</th>\n",
       "      <th>V4</th>\n",
       "      <th>V5</th>\n",
       "      <th>V6</th>\n",
       "      <th>V7</th>\n",
       "      <th>V8</th>\n",
       "      <th>V9</th>\n",
       "      <th>V10</th>\n",
       "      <th>...</th>\n",
       "      <th>V92</th>\n",
       "      <th>V93</th>\n",
       "      <th>V94</th>\n",
       "      <th>V95</th>\n",
       "      <th>V96</th>\n",
       "      <th>V97</th>\n",
       "      <th>V98</th>\n",
       "      <th>V99</th>\n",
       "      <th>V100</th>\n",
       "      <th>Class</th>\n",
       "    </tr>\n",
       "  </thead>\n",
       "  <tbody>\n",
       "    <tr>\n",
       "      <th>0</th>\n",
       "      <td>39.02</td>\n",
       "      <td>36.49</td>\n",
       "      <td>38.20</td>\n",
       "      <td>38.85</td>\n",
       "      <td>39.38</td>\n",
       "      <td>39.74</td>\n",
       "      <td>37.02</td>\n",
       "      <td>39.53</td>\n",
       "      <td>38.81</td>\n",
       "      <td>38.79</td>\n",
       "      <td>...</td>\n",
       "      <td>36.62</td>\n",
       "      <td>36.92</td>\n",
       "      <td>38.80</td>\n",
       "      <td>38.52</td>\n",
       "      <td>38.07</td>\n",
       "      <td>36.73</td>\n",
       "      <td>39.46</td>\n",
       "      <td>37.50</td>\n",
       "      <td>39.10</td>\n",
       "      <td>0</td>\n",
       "    </tr>\n",
       "    <tr>\n",
       "      <th>1</th>\n",
       "      <td>1.83</td>\n",
       "      <td>1.71</td>\n",
       "      <td>1.77</td>\n",
       "      <td>1.77</td>\n",
       "      <td>1.68</td>\n",
       "      <td>1.78</td>\n",
       "      <td>1.80</td>\n",
       "      <td>1.70</td>\n",
       "      <td>1.75</td>\n",
       "      <td>1.78</td>\n",
       "      <td>...</td>\n",
       "      <td>1.80</td>\n",
       "      <td>1.79</td>\n",
       "      <td>1.77</td>\n",
       "      <td>1.74</td>\n",
       "      <td>1.74</td>\n",
       "      <td>1.80</td>\n",
       "      <td>1.78</td>\n",
       "      <td>1.75</td>\n",
       "      <td>1.69</td>\n",
       "      <td>1</td>\n",
       "    </tr>\n",
       "    <tr>\n",
       "      <th>2</th>\n",
       "      <td>68177.69</td>\n",
       "      <td>66138.42</td>\n",
       "      <td>72981.88</td>\n",
       "      <td>74304.33</td>\n",
       "      <td>67549.66</td>\n",
       "      <td>69367.34</td>\n",
       "      <td>69169.41</td>\n",
       "      <td>73268.61</td>\n",
       "      <td>74465.84</td>\n",
       "      <td>72503.37</td>\n",
       "      <td>...</td>\n",
       "      <td>73438.88</td>\n",
       "      <td>71053.35</td>\n",
       "      <td>71112.62</td>\n",
       "      <td>74916.48</td>\n",
       "      <td>72571.58</td>\n",
       "      <td>66348.97</td>\n",
       "      <td>71063.72</td>\n",
       "      <td>67404.27</td>\n",
       "      <td>74920.24</td>\n",
       "      <td>1</td>\n",
       "    </tr>\n",
       "    <tr>\n",
       "      <th>3</th>\n",
       "      <td>44889.06</td>\n",
       "      <td>39191.86</td>\n",
       "      <td>40728.46</td>\n",
       "      <td>38576.36</td>\n",
       "      <td>45876.06</td>\n",
       "      <td>47034.00</td>\n",
       "      <td>46611.43</td>\n",
       "      <td>37668.32</td>\n",
       "      <td>40980.89</td>\n",
       "      <td>38466.15</td>\n",
       "      <td>...</td>\n",
       "      <td>42625.67</td>\n",
       "      <td>40684.20</td>\n",
       "      <td>46960.73</td>\n",
       "      <td>44546.80</td>\n",
       "      <td>45410.53</td>\n",
       "      <td>47139.44</td>\n",
       "      <td>43095.68</td>\n",
       "      <td>40888.34</td>\n",
       "      <td>39615.19</td>\n",
       "      <td>0</td>\n",
       "    </tr>\n",
       "    <tr>\n",
       "      <th>4</th>\n",
       "      <td>5.70</td>\n",
       "      <td>5.40</td>\n",
       "      <td>5.28</td>\n",
       "      <td>5.38</td>\n",
       "      <td>5.27</td>\n",
       "      <td>5.61</td>\n",
       "      <td>6.00</td>\n",
       "      <td>5.38</td>\n",
       "      <td>5.34</td>\n",
       "      <td>5.87</td>\n",
       "      <td>...</td>\n",
       "      <td>5.17</td>\n",
       "      <td>5.67</td>\n",
       "      <td>5.60</td>\n",
       "      <td>5.94</td>\n",
       "      <td>5.73</td>\n",
       "      <td>5.22</td>\n",
       "      <td>5.30</td>\n",
       "      <td>5.73</td>\n",
       "      <td>5.91</td>\n",
       "      <td>0</td>\n",
       "    </tr>\n",
       "  </tbody>\n",
       "</table>\n",
       "<p>5 rows × 101 columns</p>\n",
       "</div>"
      ],
      "text/plain": [
       "         V1        V2        V3        V4        V5        V6        V7  \\\n",
       "0     39.02     36.49     38.20     38.85     39.38     39.74     37.02   \n",
       "1      1.83      1.71      1.77      1.77      1.68      1.78      1.80   \n",
       "2  68177.69  66138.42  72981.88  74304.33  67549.66  69367.34  69169.41   \n",
       "3  44889.06  39191.86  40728.46  38576.36  45876.06  47034.00  46611.43   \n",
       "4      5.70      5.40      5.28      5.38      5.27      5.61      6.00   \n",
       "\n",
       "         V8        V9       V10  ...       V92       V93       V94       V95  \\\n",
       "0     39.53     38.81     38.79  ...     36.62     36.92     38.80     38.52   \n",
       "1      1.70      1.75      1.78  ...      1.80      1.79      1.77      1.74   \n",
       "2  73268.61  74465.84  72503.37  ...  73438.88  71053.35  71112.62  74916.48   \n",
       "3  37668.32  40980.89  38466.15  ...  42625.67  40684.20  46960.73  44546.80   \n",
       "4      5.38      5.34      5.87  ...      5.17      5.67      5.60      5.94   \n",
       "\n",
       "        V96       V97       V98       V99      V100  Class  \n",
       "0     38.07     36.73     39.46     37.50     39.10      0  \n",
       "1      1.74      1.80      1.78      1.75      1.69      1  \n",
       "2  72571.58  66348.97  71063.72  67404.27  74920.24      1  \n",
       "3  45410.53  47139.44  43095.68  40888.34  39615.19      0  \n",
       "4      5.73      5.22      5.30      5.73      5.91      0  \n",
       "\n",
       "[5 rows x 101 columns]"
      ]
     },
     "execution_count": 3,
     "metadata": {},
     "output_type": "execute_result"
    }
   ],
   "source": [
    "df.head()"
   ]
  },
  {
   "cell_type": "code",
   "execution_count": 4,
   "id": "d396b1d7",
   "metadata": {},
   "outputs": [
    {
     "name": "stdout",
     "output_type": "stream",
     "text": [
      "<class 'pandas.core.frame.DataFrame'>\n",
      "RangeIndex: 1212 entries, 0 to 1211\n",
      "Columns: 101 entries, V1 to Class\n",
      "dtypes: float64(100), int64(1)\n",
      "memory usage: 956.5 KB\n"
     ]
    }
   ],
   "source": [
    "df.info()"
   ]
  },
  {
   "cell_type": "code",
   "execution_count": 5,
   "id": "2ad2a096",
   "metadata": {},
   "outputs": [
    {
     "data": {
      "text/html": [
       "<div>\n",
       "<style scoped>\n",
       "    .dataframe tbody tr th:only-of-type {\n",
       "        vertical-align: middle;\n",
       "    }\n",
       "\n",
       "    .dataframe tbody tr th {\n",
       "        vertical-align: top;\n",
       "    }\n",
       "\n",
       "    .dataframe thead th {\n",
       "        text-align: right;\n",
       "    }\n",
       "</style>\n",
       "<table border=\"1\" class=\"dataframe\">\n",
       "  <thead>\n",
       "    <tr style=\"text-align: right;\">\n",
       "      <th></th>\n",
       "      <th>V1</th>\n",
       "      <th>V2</th>\n",
       "      <th>V3</th>\n",
       "      <th>V4</th>\n",
       "      <th>V5</th>\n",
       "      <th>V6</th>\n",
       "      <th>V7</th>\n",
       "      <th>V8</th>\n",
       "      <th>V9</th>\n",
       "      <th>V10</th>\n",
       "      <th>...</th>\n",
       "      <th>V92</th>\n",
       "      <th>V93</th>\n",
       "      <th>V94</th>\n",
       "      <th>V95</th>\n",
       "      <th>V96</th>\n",
       "      <th>V97</th>\n",
       "      <th>V98</th>\n",
       "      <th>V99</th>\n",
       "      <th>V100</th>\n",
       "      <th>Class</th>\n",
       "    </tr>\n",
       "  </thead>\n",
       "  <tbody>\n",
       "    <tr>\n",
       "      <th>count</th>\n",
       "      <td>1212.000000</td>\n",
       "      <td>1212.000000</td>\n",
       "      <td>1212.000000</td>\n",
       "      <td>1212.000000</td>\n",
       "      <td>1212.000000</td>\n",
       "      <td>1212.000000</td>\n",
       "      <td>1212.000000</td>\n",
       "      <td>1212.000000</td>\n",
       "      <td>1212.000000</td>\n",
       "      <td>1212.000000</td>\n",
       "      <td>...</td>\n",
       "      <td>1212.000000</td>\n",
       "      <td>1212.000000</td>\n",
       "      <td>1212.000000</td>\n",
       "      <td>1212.000000</td>\n",
       "      <td>1212.000000</td>\n",
       "      <td>1212.000000</td>\n",
       "      <td>1212.000000</td>\n",
       "      <td>1212.000000</td>\n",
       "      <td>1212.000000</td>\n",
       "      <td>1212.000000</td>\n",
       "    </tr>\n",
       "    <tr>\n",
       "      <th>mean</th>\n",
       "      <td>8169.091881</td>\n",
       "      <td>8144.306262</td>\n",
       "      <td>8192.653738</td>\n",
       "      <td>8176.868738</td>\n",
       "      <td>8128.297211</td>\n",
       "      <td>8173.030008</td>\n",
       "      <td>8188.582748</td>\n",
       "      <td>8183.641543</td>\n",
       "      <td>8154.670066</td>\n",
       "      <td>8120.767574</td>\n",
       "      <td>...</td>\n",
       "      <td>8120.056815</td>\n",
       "      <td>8125.917409</td>\n",
       "      <td>8158.793812</td>\n",
       "      <td>8140.885421</td>\n",
       "      <td>8213.480611</td>\n",
       "      <td>8185.594002</td>\n",
       "      <td>8140.195355</td>\n",
       "      <td>8192.960891</td>\n",
       "      <td>8156.197376</td>\n",
       "      <td>0.500000</td>\n",
       "    </tr>\n",
       "    <tr>\n",
       "      <th>std</th>\n",
       "      <td>17974.950461</td>\n",
       "      <td>17881.049734</td>\n",
       "      <td>18087.938901</td>\n",
       "      <td>17991.903982</td>\n",
       "      <td>17846.757963</td>\n",
       "      <td>17927.114105</td>\n",
       "      <td>18029.562695</td>\n",
       "      <td>18048.582159</td>\n",
       "      <td>17982.390713</td>\n",
       "      <td>17900.798206</td>\n",
       "      <td>...</td>\n",
       "      <td>17773.190621</td>\n",
       "      <td>17758.182403</td>\n",
       "      <td>17919.510371</td>\n",
       "      <td>17817.945646</td>\n",
       "      <td>18016.445265</td>\n",
       "      <td>17956.084223</td>\n",
       "      <td>17768.356106</td>\n",
       "      <td>18064.781479</td>\n",
       "      <td>17829.310973</td>\n",
       "      <td>0.500206</td>\n",
       "    </tr>\n",
       "    <tr>\n",
       "      <th>min</th>\n",
       "      <td>0.920000</td>\n",
       "      <td>0.900000</td>\n",
       "      <td>0.850000</td>\n",
       "      <td>0.890000</td>\n",
       "      <td>0.880000</td>\n",
       "      <td>0.860000</td>\n",
       "      <td>0.870000</td>\n",
       "      <td>0.650000</td>\n",
       "      <td>0.650000</td>\n",
       "      <td>0.620000</td>\n",
       "      <td>...</td>\n",
       "      <td>0.870000</td>\n",
       "      <td>0.900000</td>\n",
       "      <td>0.870000</td>\n",
       "      <td>0.880000</td>\n",
       "      <td>0.890000</td>\n",
       "      <td>0.890000</td>\n",
       "      <td>0.860000</td>\n",
       "      <td>0.910000</td>\n",
       "      <td>0.890000</td>\n",
       "      <td>0.000000</td>\n",
       "    </tr>\n",
       "    <tr>\n",
       "      <th>25%</th>\n",
       "      <td>19.602500</td>\n",
       "      <td>19.595000</td>\n",
       "      <td>18.925000</td>\n",
       "      <td>19.277500</td>\n",
       "      <td>19.210000</td>\n",
       "      <td>19.582500</td>\n",
       "      <td>18.690000</td>\n",
       "      <td>19.062500</td>\n",
       "      <td>19.532500</td>\n",
       "      <td>19.285000</td>\n",
       "      <td>...</td>\n",
       "      <td>19.197500</td>\n",
       "      <td>18.895000</td>\n",
       "      <td>19.237500</td>\n",
       "      <td>19.385000</td>\n",
       "      <td>19.027500</td>\n",
       "      <td>19.135000</td>\n",
       "      <td>19.205000</td>\n",
       "      <td>18.812500</td>\n",
       "      <td>19.145000</td>\n",
       "      <td>0.000000</td>\n",
       "    </tr>\n",
       "    <tr>\n",
       "      <th>50%</th>\n",
       "      <td>301.425000</td>\n",
       "      <td>295.205000</td>\n",
       "      <td>297.260000</td>\n",
       "      <td>299.720000</td>\n",
       "      <td>295.115000</td>\n",
       "      <td>294.380000</td>\n",
       "      <td>295.935000</td>\n",
       "      <td>290.850000</td>\n",
       "      <td>294.565000</td>\n",
       "      <td>295.160000</td>\n",
       "      <td>...</td>\n",
       "      <td>297.845000</td>\n",
       "      <td>295.420000</td>\n",
       "      <td>299.155000</td>\n",
       "      <td>293.355000</td>\n",
       "      <td>301.370000</td>\n",
       "      <td>296.960000</td>\n",
       "      <td>300.925000</td>\n",
       "      <td>299.200000</td>\n",
       "      <td>302.275000</td>\n",
       "      <td>0.500000</td>\n",
       "    </tr>\n",
       "    <tr>\n",
       "      <th>75%</th>\n",
       "      <td>5358.795000</td>\n",
       "      <td>5417.847500</td>\n",
       "      <td>5393.367500</td>\n",
       "      <td>5388.482500</td>\n",
       "      <td>5321.987500</td>\n",
       "      <td>5328.040000</td>\n",
       "      <td>5443.977500</td>\n",
       "      <td>5283.655000</td>\n",
       "      <td>5378.180000</td>\n",
       "      <td>5319.097500</td>\n",
       "      <td>...</td>\n",
       "      <td>5355.355000</td>\n",
       "      <td>5386.037500</td>\n",
       "      <td>5286.385000</td>\n",
       "      <td>5345.797500</td>\n",
       "      <td>5300.890000</td>\n",
       "      <td>5361.047500</td>\n",
       "      <td>5390.850000</td>\n",
       "      <td>5288.712500</td>\n",
       "      <td>5357.847500</td>\n",
       "      <td>1.000000</td>\n",
       "    </tr>\n",
       "    <tr>\n",
       "      <th>max</th>\n",
       "      <td>117807.870000</td>\n",
       "      <td>108896.480000</td>\n",
       "      <td>119031.350000</td>\n",
       "      <td>110212.590000</td>\n",
       "      <td>113000.470000</td>\n",
       "      <td>116848.390000</td>\n",
       "      <td>115609.240000</td>\n",
       "      <td>118522.320000</td>\n",
       "      <td>112895.900000</td>\n",
       "      <td>117798.300000</td>\n",
       "      <td>...</td>\n",
       "      <td>113858.680000</td>\n",
       "      <td>112948.830000</td>\n",
       "      <td>112409.570000</td>\n",
       "      <td>112933.730000</td>\n",
       "      <td>112037.220000</td>\n",
       "      <td>115110.420000</td>\n",
       "      <td>116431.960000</td>\n",
       "      <td>113291.960000</td>\n",
       "      <td>114533.760000</td>\n",
       "      <td>1.000000</td>\n",
       "    </tr>\n",
       "  </tbody>\n",
       "</table>\n",
       "<p>8 rows × 101 columns</p>\n",
       "</div>"
      ],
      "text/plain": [
       "                  V1             V2             V3             V4  \\\n",
       "count    1212.000000    1212.000000    1212.000000    1212.000000   \n",
       "mean     8169.091881    8144.306262    8192.653738    8176.868738   \n",
       "std     17974.950461   17881.049734   18087.938901   17991.903982   \n",
       "min         0.920000       0.900000       0.850000       0.890000   \n",
       "25%        19.602500      19.595000      18.925000      19.277500   \n",
       "50%       301.425000     295.205000     297.260000     299.720000   \n",
       "75%      5358.795000    5417.847500    5393.367500    5388.482500   \n",
       "max    117807.870000  108896.480000  119031.350000  110212.590000   \n",
       "\n",
       "                  V5             V6             V7             V8  \\\n",
       "count    1212.000000    1212.000000    1212.000000    1212.000000   \n",
       "mean     8128.297211    8173.030008    8188.582748    8183.641543   \n",
       "std     17846.757963   17927.114105   18029.562695   18048.582159   \n",
       "min         0.880000       0.860000       0.870000       0.650000   \n",
       "25%        19.210000      19.582500      18.690000      19.062500   \n",
       "50%       295.115000     294.380000     295.935000     290.850000   \n",
       "75%      5321.987500    5328.040000    5443.977500    5283.655000   \n",
       "max    113000.470000  116848.390000  115609.240000  118522.320000   \n",
       "\n",
       "                  V9            V10  ...            V92            V93  \\\n",
       "count    1212.000000    1212.000000  ...    1212.000000    1212.000000   \n",
       "mean     8154.670066    8120.767574  ...    8120.056815    8125.917409   \n",
       "std     17982.390713   17900.798206  ...   17773.190621   17758.182403   \n",
       "min         0.650000       0.620000  ...       0.870000       0.900000   \n",
       "25%        19.532500      19.285000  ...      19.197500      18.895000   \n",
       "50%       294.565000     295.160000  ...     297.845000     295.420000   \n",
       "75%      5378.180000    5319.097500  ...    5355.355000    5386.037500   \n",
       "max    112895.900000  117798.300000  ...  113858.680000  112948.830000   \n",
       "\n",
       "                 V94            V95            V96            V97  \\\n",
       "count    1212.000000    1212.000000    1212.000000    1212.000000   \n",
       "mean     8158.793812    8140.885421    8213.480611    8185.594002   \n",
       "std     17919.510371   17817.945646   18016.445265   17956.084223   \n",
       "min         0.870000       0.880000       0.890000       0.890000   \n",
       "25%        19.237500      19.385000      19.027500      19.135000   \n",
       "50%       299.155000     293.355000     301.370000     296.960000   \n",
       "75%      5286.385000    5345.797500    5300.890000    5361.047500   \n",
       "max    112409.570000  112933.730000  112037.220000  115110.420000   \n",
       "\n",
       "                 V98            V99           V100        Class  \n",
       "count    1212.000000    1212.000000    1212.000000  1212.000000  \n",
       "mean     8140.195355    8192.960891    8156.197376     0.500000  \n",
       "std     17768.356106   18064.781479   17829.310973     0.500206  \n",
       "min         0.860000       0.910000       0.890000     0.000000  \n",
       "25%        19.205000      18.812500      19.145000     0.000000  \n",
       "50%       300.925000     299.200000     302.275000     0.500000  \n",
       "75%      5390.850000    5288.712500    5357.847500     1.000000  \n",
       "max    116431.960000  113291.960000  114533.760000     1.000000  \n",
       "\n",
       "[8 rows x 101 columns]"
      ]
     },
     "execution_count": 5,
     "metadata": {},
     "output_type": "execute_result"
    }
   ],
   "source": [
    "df.describe()"
   ]
  },
  {
   "cell_type": "code",
   "execution_count": 6,
   "id": "aab8ceaf",
   "metadata": {},
   "outputs": [
    {
     "data": {
      "text/plain": [
       "Index(['V1', 'V2', 'V3', 'V4', 'V5', 'V6', 'V7', 'V8', 'V9', 'V10',\n",
       "       ...\n",
       "       'V92', 'V93', 'V94', 'V95', 'V96', 'V97', 'V98', 'V99', 'V100',\n",
       "       'Class'],\n",
       "      dtype='object', length=101)"
      ]
     },
     "execution_count": 6,
     "metadata": {},
     "output_type": "execute_result"
    }
   ],
   "source": [
    "df.columns"
   ]
  },
  {
   "cell_type": "markdown",
   "id": "05adb625",
   "metadata": {},
   "source": [
    "# ALL COLUMNS ARE NOT GOT PRINTED"
   ]
  },
  {
   "cell_type": "code",
   "execution_count": 7,
   "id": "9ce85ae4",
   "metadata": {},
   "outputs": [
    {
     "name": "stdout",
     "output_type": "stream",
     "text": [
      "['V1', 'V2', 'V3', 'V4', 'V5', 'V6', 'V7', 'V8', 'V9', 'V10', 'V11', 'V12', 'V13', 'V14', 'V15', 'V16', 'V17', 'V18', 'V19', 'V20', 'V21', 'V22', 'V23', 'V24', 'V25', 'V26', 'V27', 'V28', 'V29', 'V30', 'V31', 'V32', 'V33', 'V34', 'V35', 'V36', 'V37', 'V38', 'V39', 'V40', 'V41', 'V42', 'V43', 'V44', 'V45', 'V46', 'V47', 'V48', 'V49', 'V50', 'V51', 'V52', 'V53', 'V54', 'V55', 'V56', 'V57', 'V58', 'V59', 'V60', 'V61', 'V62', 'V63', 'V64', 'V65', 'V66', 'V67', 'V68', 'V69', 'V70', 'V71', 'V72', 'V73', 'V74', 'V75', 'V76', 'V77', 'V78', 'V79', 'V80', 'V81', 'V82', 'V83', 'V84', 'V85', 'V86', 'V87', 'V88', 'V89', 'V90', 'V91', 'V92', 'V93', 'V94', 'V95', 'V96', 'V97', 'V98', 'V99', 'V100', 'Class']\n"
     ]
    }
   ],
   "source": [
    "print(df.columns.tolist())"
   ]
  },
  {
   "cell_type": "code",
   "execution_count": 8,
   "id": "e5d7c490",
   "metadata": {},
   "outputs": [
    {
     "data": {
      "text/plain": [
       "(1212, 101)"
      ]
     },
     "execution_count": 8,
     "metadata": {},
     "output_type": "execute_result"
    }
   ],
   "source": [
    "df.shape"
   ]
  },
  {
   "cell_type": "markdown",
   "id": "e34097d8",
   "metadata": {},
   "source": [
    "# UNIQUE VALUES(LABELS) IN Y VARIABLE"
   ]
  },
  {
   "cell_type": "markdown",
   "id": "53a8cf37",
   "metadata": {},
   "source": [
    "# CATEGORIES AND COUNTS OF CATEGORICAL VARIABLES"
   ]
  },
  {
   "cell_type": "code",
   "execution_count": 9,
   "id": "025e8e48",
   "metadata": {},
   "outputs": [
    {
     "data": {
      "text/plain": [
       "0    606\n",
       "1    606\n",
       "Name: Class, dtype: int64"
      ]
     },
     "execution_count": 9,
     "metadata": {},
     "output_type": "execute_result"
    }
   ],
   "source": [
    "df['Class'].value_counts()"
   ]
  },
  {
   "cell_type": "code",
   "execution_count": 10,
   "id": "3b36cf1c",
   "metadata": {},
   "outputs": [
    {
     "data": {
      "text/html": [
       "<div>\n",
       "<style scoped>\n",
       "    .dataframe tbody tr th:only-of-type {\n",
       "        vertical-align: middle;\n",
       "    }\n",
       "\n",
       "    .dataframe tbody tr th {\n",
       "        vertical-align: top;\n",
       "    }\n",
       "\n",
       "    .dataframe thead th {\n",
       "        text-align: right;\n",
       "    }\n",
       "</style>\n",
       "<table border=\"1\" class=\"dataframe\">\n",
       "  <thead>\n",
       "    <tr style=\"text-align: right;\">\n",
       "      <th></th>\n",
       "      <th>V1</th>\n",
       "      <th>V2</th>\n",
       "      <th>V3</th>\n",
       "      <th>V4</th>\n",
       "      <th>V5</th>\n",
       "      <th>V6</th>\n",
       "      <th>V7</th>\n",
       "      <th>V8</th>\n",
       "      <th>V9</th>\n",
       "      <th>V10</th>\n",
       "      <th>...</th>\n",
       "      <th>V91</th>\n",
       "      <th>V92</th>\n",
       "      <th>V93</th>\n",
       "      <th>V94</th>\n",
       "      <th>V95</th>\n",
       "      <th>V96</th>\n",
       "      <th>V97</th>\n",
       "      <th>V98</th>\n",
       "      <th>V99</th>\n",
       "      <th>V100</th>\n",
       "    </tr>\n",
       "    <tr>\n",
       "      <th>Class</th>\n",
       "      <th></th>\n",
       "      <th></th>\n",
       "      <th></th>\n",
       "      <th></th>\n",
       "      <th></th>\n",
       "      <th></th>\n",
       "      <th></th>\n",
       "      <th></th>\n",
       "      <th></th>\n",
       "      <th></th>\n",
       "      <th></th>\n",
       "      <th></th>\n",
       "      <th></th>\n",
       "      <th></th>\n",
       "      <th></th>\n",
       "      <th></th>\n",
       "      <th></th>\n",
       "      <th></th>\n",
       "      <th></th>\n",
       "      <th></th>\n",
       "      <th></th>\n",
       "    </tr>\n",
       "  </thead>\n",
       "  <tbody>\n",
       "    <tr>\n",
       "      <th>0</th>\n",
       "      <td>7913.333251</td>\n",
       "      <td>7825.339967</td>\n",
       "      <td>7902.497294</td>\n",
       "      <td>7857.032079</td>\n",
       "      <td>7775.610198</td>\n",
       "      <td>7875.436337</td>\n",
       "      <td>7804.166584</td>\n",
       "      <td>7722.324802</td>\n",
       "      <td>7793.328416</td>\n",
       "      <td>7686.782046</td>\n",
       "      <td>...</td>\n",
       "      <td>7753.427244</td>\n",
       "      <td>7737.843366</td>\n",
       "      <td>7799.332079</td>\n",
       "      <td>7825.211700</td>\n",
       "      <td>7791.354010</td>\n",
       "      <td>7927.237112</td>\n",
       "      <td>7874.502343</td>\n",
       "      <td>7844.227459</td>\n",
       "      <td>7875.338713</td>\n",
       "      <td>7855.181172</td>\n",
       "    </tr>\n",
       "    <tr>\n",
       "      <th>1</th>\n",
       "      <td>8424.850512</td>\n",
       "      <td>8463.272558</td>\n",
       "      <td>8482.810182</td>\n",
       "      <td>8496.705396</td>\n",
       "      <td>8480.984224</td>\n",
       "      <td>8470.623680</td>\n",
       "      <td>8572.998911</td>\n",
       "      <td>8644.958284</td>\n",
       "      <td>8516.011716</td>\n",
       "      <td>8554.753102</td>\n",
       "      <td>...</td>\n",
       "      <td>8478.513399</td>\n",
       "      <td>8502.270264</td>\n",
       "      <td>8452.502739</td>\n",
       "      <td>8492.375924</td>\n",
       "      <td>8490.416832</td>\n",
       "      <td>8499.724109</td>\n",
       "      <td>8496.685660</td>\n",
       "      <td>8436.163251</td>\n",
       "      <td>8510.583069</td>\n",
       "      <td>8457.213581</td>\n",
       "    </tr>\n",
       "  </tbody>\n",
       "</table>\n",
       "<p>2 rows × 100 columns</p>\n",
       "</div>"
      ],
      "text/plain": [
       "                V1           V2           V3           V4           V5  \\\n",
       "Class                                                                    \n",
       "0      7913.333251  7825.339967  7902.497294  7857.032079  7775.610198   \n",
       "1      8424.850512  8463.272558  8482.810182  8496.705396  8480.984224   \n",
       "\n",
       "                V6           V7           V8           V9          V10  ...  \\\n",
       "Class                                                                   ...   \n",
       "0      7875.436337  7804.166584  7722.324802  7793.328416  7686.782046  ...   \n",
       "1      8470.623680  8572.998911  8644.958284  8516.011716  8554.753102  ...   \n",
       "\n",
       "               V91          V92          V93          V94          V95  \\\n",
       "Class                                                                    \n",
       "0      7753.427244  7737.843366  7799.332079  7825.211700  7791.354010   \n",
       "1      8478.513399  8502.270264  8452.502739  8492.375924  8490.416832   \n",
       "\n",
       "               V96          V97          V98          V99         V100  \n",
       "Class                                                                   \n",
       "0      7927.237112  7874.502343  7844.227459  7875.338713  7855.181172  \n",
       "1      8499.724109  8496.685660  8436.163251  8510.583069  8457.213581  \n",
       "\n",
       "[2 rows x 100 columns]"
      ]
     },
     "execution_count": 10,
     "metadata": {},
     "output_type": "execute_result"
    }
   ],
   "source": [
    "df.groupby(\"Class\").mean()"
   ]
  },
  {
   "cell_type": "markdown",
   "id": "7be4cd74",
   "metadata": {},
   "source": [
    "# DEFINE Y (DEPENDENT or LABEL or TARGET VARIABLE)"
   ]
  },
  {
   "cell_type": "code",
   "execution_count": 11,
   "id": "7256df08",
   "metadata": {},
   "outputs": [],
   "source": [
    "y=df['Class']"
   ]
  },
  {
   "cell_type": "code",
   "execution_count": 12,
   "id": "3038e692",
   "metadata": {},
   "outputs": [
    {
     "data": {
      "text/plain": [
       "(1212,)"
      ]
     },
     "execution_count": 12,
     "metadata": {},
     "output_type": "execute_result"
    }
   ],
   "source": [
    "y.shape"
   ]
  },
  {
   "cell_type": "code",
   "execution_count": 13,
   "id": "a2bbdfee",
   "metadata": {},
   "outputs": [
    {
     "data": {
      "text/plain": [
       "0       0\n",
       "1       1\n",
       "2       1\n",
       "3       0\n",
       "4       0\n",
       "       ..\n",
       "1207    1\n",
       "1208    0\n",
       "1209    1\n",
       "1210    1\n",
       "1211    0\n",
       "Name: Class, Length: 1212, dtype: int64"
      ]
     },
     "execution_count": 13,
     "metadata": {},
     "output_type": "execute_result"
    }
   ],
   "source": [
    "y"
   ]
  },
  {
   "cell_type": "markdown",
   "id": "866842dd",
   "metadata": {},
   "source": [
    "# DEFINE X INDEPENDENTt or FEATURES or ATTRIBUTE VARIABLE)"
   ]
  },
  {
   "cell_type": "code",
   "execution_count": 14,
   "id": "24853b50",
   "metadata": {},
   "outputs": [],
   "source": [
    "X=df[['V1', 'V2', 'V3', 'V4', 'V5', 'V6', 'V7', 'V8', 'V9', 'V10', 'V11', 'V12', 'V13', 'V14', 'V15', 'V16', 'V17', 'V18', 'V19', 'V20', 'V21', 'V22', 'V23', 'V24', 'V25', 'V26', 'V27', 'V28', 'V29', 'V30', 'V31', 'V32', 'V33', 'V34', 'V35', 'V36', 'V37', 'V38', 'V39', 'V40', 'V41', 'V42', 'V43', 'V44', 'V45', 'V46', 'V47', 'V48', 'V49', 'V50', 'V51', 'V52', 'V53', 'V54', 'V55', 'V56', 'V57', 'V58', 'V59', 'V60', 'V61', 'V62', 'V63', 'V64', 'V65', 'V66', 'V67', 'V68', 'V69', 'V70', 'V71', 'V72', 'V73', 'V74', 'V75', 'V76', 'V77', 'V78', 'V79', 'V80', 'V81', 'V82', 'V83', 'V84', 'V85', 'V86', 'V87', 'V88', 'V89', 'V90', 'V91', 'V92', 'V93', 'V94', 'V95', 'V96', 'V97', 'V98', 'V99', 'V100', 'Class']]"
   ]
  },
  {
   "cell_type": "markdown",
   "id": "d9e90b6d",
   "metadata": {},
   "source": [
    "# USE DROP FUNCTIOIN TO DEFINE X"
   ]
  },
  {
   "cell_type": "code",
   "execution_count": 15,
   "id": "1d9559c3",
   "metadata": {},
   "outputs": [],
   "source": [
    "X = df.drop(['Class'], axis=1)"
   ]
  },
  {
   "cell_type": "code",
   "execution_count": 16,
   "id": "d34dd1e4",
   "metadata": {},
   "outputs": [
    {
     "data": {
      "text/plain": [
       "(1212, 100)"
      ]
     },
     "execution_count": 16,
     "metadata": {},
     "output_type": "execute_result"
    }
   ],
   "source": [
    "X.shape"
   ]
  },
  {
   "cell_type": "code",
   "execution_count": 17,
   "id": "0d4e07fe",
   "metadata": {},
   "outputs": [
    {
     "data": {
      "text/html": [
       "<div>\n",
       "<style scoped>\n",
       "    .dataframe tbody tr th:only-of-type {\n",
       "        vertical-align: middle;\n",
       "    }\n",
       "\n",
       "    .dataframe tbody tr th {\n",
       "        vertical-align: top;\n",
       "    }\n",
       "\n",
       "    .dataframe thead th {\n",
       "        text-align: right;\n",
       "    }\n",
       "</style>\n",
       "<table border=\"1\" class=\"dataframe\">\n",
       "  <thead>\n",
       "    <tr style=\"text-align: right;\">\n",
       "      <th></th>\n",
       "      <th>V1</th>\n",
       "      <th>V2</th>\n",
       "      <th>V3</th>\n",
       "      <th>V4</th>\n",
       "      <th>V5</th>\n",
       "      <th>V6</th>\n",
       "      <th>V7</th>\n",
       "      <th>V8</th>\n",
       "      <th>V9</th>\n",
       "      <th>V10</th>\n",
       "      <th>...</th>\n",
       "      <th>V91</th>\n",
       "      <th>V92</th>\n",
       "      <th>V93</th>\n",
       "      <th>V94</th>\n",
       "      <th>V95</th>\n",
       "      <th>V96</th>\n",
       "      <th>V97</th>\n",
       "      <th>V98</th>\n",
       "      <th>V99</th>\n",
       "      <th>V100</th>\n",
       "    </tr>\n",
       "  </thead>\n",
       "  <tbody>\n",
       "    <tr>\n",
       "      <th>0</th>\n",
       "      <td>39.02</td>\n",
       "      <td>36.49</td>\n",
       "      <td>38.20</td>\n",
       "      <td>38.85</td>\n",
       "      <td>39.38</td>\n",
       "      <td>39.74</td>\n",
       "      <td>37.02</td>\n",
       "      <td>39.53</td>\n",
       "      <td>38.81</td>\n",
       "      <td>38.79</td>\n",
       "      <td>...</td>\n",
       "      <td>37.57</td>\n",
       "      <td>36.62</td>\n",
       "      <td>36.92</td>\n",
       "      <td>38.80</td>\n",
       "      <td>38.52</td>\n",
       "      <td>38.07</td>\n",
       "      <td>36.73</td>\n",
       "      <td>39.46</td>\n",
       "      <td>37.50</td>\n",
       "      <td>39.10</td>\n",
       "    </tr>\n",
       "    <tr>\n",
       "      <th>1</th>\n",
       "      <td>1.83</td>\n",
       "      <td>1.71</td>\n",
       "      <td>1.77</td>\n",
       "      <td>1.77</td>\n",
       "      <td>1.68</td>\n",
       "      <td>1.78</td>\n",
       "      <td>1.80</td>\n",
       "      <td>1.70</td>\n",
       "      <td>1.75</td>\n",
       "      <td>1.78</td>\n",
       "      <td>...</td>\n",
       "      <td>1.71</td>\n",
       "      <td>1.80</td>\n",
       "      <td>1.79</td>\n",
       "      <td>1.77</td>\n",
       "      <td>1.74</td>\n",
       "      <td>1.74</td>\n",
       "      <td>1.80</td>\n",
       "      <td>1.78</td>\n",
       "      <td>1.75</td>\n",
       "      <td>1.69</td>\n",
       "    </tr>\n",
       "    <tr>\n",
       "      <th>2</th>\n",
       "      <td>68177.69</td>\n",
       "      <td>66138.42</td>\n",
       "      <td>72981.88</td>\n",
       "      <td>74304.33</td>\n",
       "      <td>67549.66</td>\n",
       "      <td>69367.34</td>\n",
       "      <td>69169.41</td>\n",
       "      <td>73268.61</td>\n",
       "      <td>74465.84</td>\n",
       "      <td>72503.37</td>\n",
       "      <td>...</td>\n",
       "      <td>69384.71</td>\n",
       "      <td>73438.88</td>\n",
       "      <td>71053.35</td>\n",
       "      <td>71112.62</td>\n",
       "      <td>74916.48</td>\n",
       "      <td>72571.58</td>\n",
       "      <td>66348.97</td>\n",
       "      <td>71063.72</td>\n",
       "      <td>67404.27</td>\n",
       "      <td>74920.24</td>\n",
       "    </tr>\n",
       "    <tr>\n",
       "      <th>3</th>\n",
       "      <td>44889.06</td>\n",
       "      <td>39191.86</td>\n",
       "      <td>40728.46</td>\n",
       "      <td>38576.36</td>\n",
       "      <td>45876.06</td>\n",
       "      <td>47034.00</td>\n",
       "      <td>46611.43</td>\n",
       "      <td>37668.32</td>\n",
       "      <td>40980.89</td>\n",
       "      <td>38466.15</td>\n",
       "      <td>...</td>\n",
       "      <td>47653.60</td>\n",
       "      <td>42625.67</td>\n",
       "      <td>40684.20</td>\n",
       "      <td>46960.73</td>\n",
       "      <td>44546.80</td>\n",
       "      <td>45410.53</td>\n",
       "      <td>47139.44</td>\n",
       "      <td>43095.68</td>\n",
       "      <td>40888.34</td>\n",
       "      <td>39615.19</td>\n",
       "    </tr>\n",
       "    <tr>\n",
       "      <th>4</th>\n",
       "      <td>5.70</td>\n",
       "      <td>5.40</td>\n",
       "      <td>5.28</td>\n",
       "      <td>5.38</td>\n",
       "      <td>5.27</td>\n",
       "      <td>5.61</td>\n",
       "      <td>6.00</td>\n",
       "      <td>5.38</td>\n",
       "      <td>5.34</td>\n",
       "      <td>5.87</td>\n",
       "      <td>...</td>\n",
       "      <td>5.52</td>\n",
       "      <td>5.17</td>\n",
       "      <td>5.67</td>\n",
       "      <td>5.60</td>\n",
       "      <td>5.94</td>\n",
       "      <td>5.73</td>\n",
       "      <td>5.22</td>\n",
       "      <td>5.30</td>\n",
       "      <td>5.73</td>\n",
       "      <td>5.91</td>\n",
       "    </tr>\n",
       "    <tr>\n",
       "      <th>...</th>\n",
       "      <td>...</td>\n",
       "      <td>...</td>\n",
       "      <td>...</td>\n",
       "      <td>...</td>\n",
       "      <td>...</td>\n",
       "      <td>...</td>\n",
       "      <td>...</td>\n",
       "      <td>...</td>\n",
       "      <td>...</td>\n",
       "      <td>...</td>\n",
       "      <td>...</td>\n",
       "      <td>...</td>\n",
       "      <td>...</td>\n",
       "      <td>...</td>\n",
       "      <td>...</td>\n",
       "      <td>...</td>\n",
       "      <td>...</td>\n",
       "      <td>...</td>\n",
       "      <td>...</td>\n",
       "      <td>...</td>\n",
       "      <td>...</td>\n",
       "    </tr>\n",
       "    <tr>\n",
       "      <th>1207</th>\n",
       "      <td>13.00</td>\n",
       "      <td>12.87</td>\n",
       "      <td>13.27</td>\n",
       "      <td>13.04</td>\n",
       "      <td>13.19</td>\n",
       "      <td>12.53</td>\n",
       "      <td>14.31</td>\n",
       "      <td>13.33</td>\n",
       "      <td>13.63</td>\n",
       "      <td>14.55</td>\n",
       "      <td>...</td>\n",
       "      <td>12.89</td>\n",
       "      <td>12.48</td>\n",
       "      <td>12.15</td>\n",
       "      <td>13.15</td>\n",
       "      <td>12.35</td>\n",
       "      <td>13.58</td>\n",
       "      <td>13.86</td>\n",
       "      <td>12.88</td>\n",
       "      <td>13.87</td>\n",
       "      <td>13.51</td>\n",
       "    </tr>\n",
       "    <tr>\n",
       "      <th>1208</th>\n",
       "      <td>48.66</td>\n",
       "      <td>50.11</td>\n",
       "      <td>48.55</td>\n",
       "      <td>50.43</td>\n",
       "      <td>50.09</td>\n",
       "      <td>49.67</td>\n",
       "      <td>48.95</td>\n",
       "      <td>48.65</td>\n",
       "      <td>48.63</td>\n",
       "      <td>48.61</td>\n",
       "      <td>...</td>\n",
       "      <td>47.45</td>\n",
       "      <td>46.93</td>\n",
       "      <td>49.61</td>\n",
       "      <td>47.16</td>\n",
       "      <td>48.17</td>\n",
       "      <td>47.94</td>\n",
       "      <td>49.81</td>\n",
       "      <td>49.89</td>\n",
       "      <td>47.43</td>\n",
       "      <td>47.77</td>\n",
       "    </tr>\n",
       "    <tr>\n",
       "      <th>1209</th>\n",
       "      <td>10160.65</td>\n",
       "      <td>9048.63</td>\n",
       "      <td>8994.94</td>\n",
       "      <td>9514.39</td>\n",
       "      <td>9814.74</td>\n",
       "      <td>10195.24</td>\n",
       "      <td>10031.47</td>\n",
       "      <td>10202.28</td>\n",
       "      <td>9152.99</td>\n",
       "      <td>9591.75</td>\n",
       "      <td>...</td>\n",
       "      <td>10413.41</td>\n",
       "      <td>9068.11</td>\n",
       "      <td>9191.80</td>\n",
       "      <td>9275.04</td>\n",
       "      <td>9848.18</td>\n",
       "      <td>9074.17</td>\n",
       "      <td>9601.74</td>\n",
       "      <td>10366.24</td>\n",
       "      <td>8997.60</td>\n",
       "      <td>9305.77</td>\n",
       "    </tr>\n",
       "    <tr>\n",
       "      <th>1210</th>\n",
       "      <td>34.81</td>\n",
       "      <td>35.07</td>\n",
       "      <td>34.98</td>\n",
       "      <td>32.37</td>\n",
       "      <td>34.16</td>\n",
       "      <td>34.03</td>\n",
       "      <td>33.31</td>\n",
       "      <td>32.48</td>\n",
       "      <td>35.63</td>\n",
       "      <td>32.48</td>\n",
       "      <td>...</td>\n",
       "      <td>33.18</td>\n",
       "      <td>32.76</td>\n",
       "      <td>35.03</td>\n",
       "      <td>32.89</td>\n",
       "      <td>31.91</td>\n",
       "      <td>33.85</td>\n",
       "      <td>35.28</td>\n",
       "      <td>32.49</td>\n",
       "      <td>32.83</td>\n",
       "      <td>34.82</td>\n",
       "    </tr>\n",
       "    <tr>\n",
       "      <th>1211</th>\n",
       "      <td>8489.43</td>\n",
       "      <td>7672.98</td>\n",
       "      <td>9132.14</td>\n",
       "      <td>7985.73</td>\n",
       "      <td>8226.85</td>\n",
       "      <td>8554.28</td>\n",
       "      <td>8838.87</td>\n",
       "      <td>8967.24</td>\n",
       "      <td>8635.14</td>\n",
       "      <td>8544.37</td>\n",
       "      <td>...</td>\n",
       "      <td>7747.70</td>\n",
       "      <td>8609.73</td>\n",
       "      <td>9209.48</td>\n",
       "      <td>8496.33</td>\n",
       "      <td>8724.01</td>\n",
       "      <td>8219.99</td>\n",
       "      <td>8550.86</td>\n",
       "      <td>8679.43</td>\n",
       "      <td>8389.31</td>\n",
       "      <td>8712.80</td>\n",
       "    </tr>\n",
       "  </tbody>\n",
       "</table>\n",
       "<p>1212 rows × 100 columns</p>\n",
       "</div>"
      ],
      "text/plain": [
       "            V1        V2        V3        V4        V5        V6        V7  \\\n",
       "0        39.02     36.49     38.20     38.85     39.38     39.74     37.02   \n",
       "1         1.83      1.71      1.77      1.77      1.68      1.78      1.80   \n",
       "2     68177.69  66138.42  72981.88  74304.33  67549.66  69367.34  69169.41   \n",
       "3     44889.06  39191.86  40728.46  38576.36  45876.06  47034.00  46611.43   \n",
       "4         5.70      5.40      5.28      5.38      5.27      5.61      6.00   \n",
       "...        ...       ...       ...       ...       ...       ...       ...   \n",
       "1207     13.00     12.87     13.27     13.04     13.19     12.53     14.31   \n",
       "1208     48.66     50.11     48.55     50.43     50.09     49.67     48.95   \n",
       "1209  10160.65   9048.63   8994.94   9514.39   9814.74  10195.24  10031.47   \n",
       "1210     34.81     35.07     34.98     32.37     34.16     34.03     33.31   \n",
       "1211   8489.43   7672.98   9132.14   7985.73   8226.85   8554.28   8838.87   \n",
       "\n",
       "            V8        V9       V10  ...       V91       V92       V93  \\\n",
       "0        39.53     38.81     38.79  ...     37.57     36.62     36.92   \n",
       "1         1.70      1.75      1.78  ...      1.71      1.80      1.79   \n",
       "2     73268.61  74465.84  72503.37  ...  69384.71  73438.88  71053.35   \n",
       "3     37668.32  40980.89  38466.15  ...  47653.60  42625.67  40684.20   \n",
       "4         5.38      5.34      5.87  ...      5.52      5.17      5.67   \n",
       "...        ...       ...       ...  ...       ...       ...       ...   \n",
       "1207     13.33     13.63     14.55  ...     12.89     12.48     12.15   \n",
       "1208     48.65     48.63     48.61  ...     47.45     46.93     49.61   \n",
       "1209  10202.28   9152.99   9591.75  ...  10413.41   9068.11   9191.80   \n",
       "1210     32.48     35.63     32.48  ...     33.18     32.76     35.03   \n",
       "1211   8967.24   8635.14   8544.37  ...   7747.70   8609.73   9209.48   \n",
       "\n",
       "           V94       V95       V96       V97       V98       V99      V100  \n",
       "0        38.80     38.52     38.07     36.73     39.46     37.50     39.10  \n",
       "1         1.77      1.74      1.74      1.80      1.78      1.75      1.69  \n",
       "2     71112.62  74916.48  72571.58  66348.97  71063.72  67404.27  74920.24  \n",
       "3     46960.73  44546.80  45410.53  47139.44  43095.68  40888.34  39615.19  \n",
       "4         5.60      5.94      5.73      5.22      5.30      5.73      5.91  \n",
       "...        ...       ...       ...       ...       ...       ...       ...  \n",
       "1207     13.15     12.35     13.58     13.86     12.88     13.87     13.51  \n",
       "1208     47.16     48.17     47.94     49.81     49.89     47.43     47.77  \n",
       "1209   9275.04   9848.18   9074.17   9601.74  10366.24   8997.60   9305.77  \n",
       "1210     32.89     31.91     33.85     35.28     32.49     32.83     34.82  \n",
       "1211   8496.33   8724.01   8219.99   8550.86   8679.43   8389.31   8712.80  \n",
       "\n",
       "[1212 rows x 100 columns]"
      ]
     },
     "execution_count": 17,
     "metadata": {},
     "output_type": "execute_result"
    }
   ],
   "source": [
    "X"
   ]
  },
  {
   "cell_type": "markdown",
   "id": "d7e5e14b",
   "metadata": {},
   "source": [
    "# PLOTTING OF TWO ROWS"
   ]
  },
  {
   "cell_type": "code",
   "execution_count": 18,
   "id": "d817f25a",
   "metadata": {},
   "outputs": [],
   "source": [
    "import matplotlib.pyplot as plt"
   ]
  },
  {
   "cell_type": "code",
   "execution_count": 19,
   "id": "6dc0c8e1",
   "metadata": {},
   "outputs": [
    {
     "data": {
      "image/png": "[encoded data removed]",
      "text/plain": [
       "<Figure size 432x288 with 1 Axes>"
      ]
     },
     "metadata": {
      "needs_background": "light"
     },
     "output_type": "display_data"
    }
   ],
   "source": [
    "plt.plot(X.iloc[0,:])\n",
    "plt.title('Valley');"
   ]
  },
  {
   "cell_type": "code",
   "execution_count": 20,
   "id": "90498872",
   "metadata": {},
   "outputs": [
    {
     "data": {
      "image/png": "[encoded data removed]",
      "text/plain": [
       "<Figure size 432x288 with 1 Axes>"
      ]
     },
     "metadata": {
      "needs_background": "light"
     },
     "output_type": "display_data"
    }
   ],
   "source": [
    "plt.plot(X.iloc[1,:])\n",
    "plt.title('Hill');"
   ]
  },
  {
   "cell_type": "markdown",
   "id": "11b3d47b",
   "metadata": {},
   "source": [
    "# GET X VARIABLE STANDARDIZED"
   ]
  },
  {
   "cell_type": "code",
   "execution_count": 21,
   "id": "a19b45da",
   "metadata": {},
   "outputs": [],
   "source": [
    "from sklearn.preprocessing import StandardScaler"
   ]
  },
  {
   "cell_type": "code",
   "execution_count": 22,
   "id": "b8f0ef74",
   "metadata": {},
   "outputs": [],
   "source": [
    "ss = StandardScaler()\n",
    "X = ss.fit_transform(X)"
   ]
  },
  {
   "cell_type": "code",
   "execution_count": 23,
   "id": "908ed493",
   "metadata": {},
   "outputs": [
    {
     "data": {
      "text/plain": [
       "array([[-0.45248681, -0.45361784, -0.45100881, ..., -0.45609618,\n",
       "        -0.45164274, -0.45545496],\n",
       "       [-0.45455665, -0.45556372, -0.45302369, ..., -0.45821768,\n",
       "        -0.45362255, -0.45755405],\n",
       "       [ 3.33983504,  3.24466709,  3.58338069, ...,  3.5427869 ,\n",
       "         3.27907378,  3.74616847],\n",
       "       ...,\n",
       "       [ 0.11084204,  0.0505953 ,  0.04437307, ...,  0.12533312,\n",
       "         0.04456025,  0.06450317],\n",
       "       [-0.45272112, -0.45369729, -0.45118691, ..., -0.45648861,\n",
       "        -0.45190136, -0.45569511],\n",
       "       [ 0.01782872, -0.02636986,  0.05196137, ...,  0.03036056,\n",
       "         0.01087365,  0.03123129]])"
      ]
     },
     "execution_count": 23,
     "metadata": {},
     "output_type": "execute_result"
    }
   ],
   "source": [
    "X"
   ]
  },
  {
   "cell_type": "code",
   "execution_count": 24,
   "id": "1b5c0603",
   "metadata": {},
   "outputs": [
    {
     "data": {
      "text/plain": [
       "(1212, 100)"
      ]
     },
     "execution_count": 24,
     "metadata": {},
     "output_type": "execute_result"
    }
   ],
   "source": [
    "X.shape"
   ]
  },
  {
   "cell_type": "markdown",
   "id": "ef5eb93d",
   "metadata": {},
   "source": [
    "# TEST_TRAIN_SPLIT"
   ]
  },
  {
   "cell_type": "code",
   "execution_count": 25,
   "id": "141df64e",
   "metadata": {},
   "outputs": [],
   "source": [
    "from sklearn.model_selection import train_test_split"
   ]
  },
  {
   "cell_type": "code",
   "execution_count": 26,
   "id": "ca661ee1",
   "metadata": {},
   "outputs": [],
   "source": [
    "X_train, X_test, y_train, y_test = train_test_split(X,y, test_size=0.3,stratify=y,random_state=22529)"
   ]
  },
  {
   "cell_type": "code",
   "execution_count": 27,
   "id": "37a228a4",
   "metadata": {},
   "outputs": [
    {
     "data": {
      "text/plain": [
       "((848, 100), (364, 100), (848,), (364,))"
      ]
     },
     "execution_count": 27,
     "metadata": {},
     "output_type": "execute_result"
    }
   ],
   "source": [
    "X_train.shape, X_test.shape, y_train.shape,y_test.shape"
   ]
  },
  {
   "cell_type": "markdown",
   "id": "95db1a82",
   "metadata": {},
   "source": [
    "# TRAIN MODEL"
   ]
  },
  {
   "cell_type": "code",
   "execution_count": 28,
   "id": "6a93ca87",
   "metadata": {},
   "outputs": [],
   "source": [
    "from sklearn.linear_model import LogisticRegression"
   ]
  },
  {
   "cell_type": "code",
   "execution_count": 29,
   "id": "460ba95f",
   "metadata": {},
   "outputs": [
    {
     "data": {
      "text/html": [
       "<style>#sk-container-id-1 {color: black;background-color: white;}#sk-container-id-1 pre{padding: 0;}#sk-container-id-1 div.sk-toggleable {background-color: white;}#sk-container-id-1 label.sk-toggleable__label {cursor: pointer;display: block;width: 100%;margin-bottom: 0;padding: 0.3em;box-sizing: border-box;text-align: center;}#sk-container-id-1 label.sk-toggleable__label-arrow:before {content: \"▸\";float: left;margin-right: 0.25em;color: #696969;}#sk-container-id-1 label.sk-toggleable__label-arrow:hover:before {color: black;}#sk-container-id-1 div.sk-estimator:hover label.sk-toggleable__label-arrow:before {color: black;}#sk-container-id-1 div.sk-toggleable__content {max-height: 0;max-width: 0;overflow: hidden;text-align: left;background-color: #f0f8ff;}#sk-container-id-1 div.sk-toggleable__content pre {margin: 0.2em;color: black;border-radius: 0.25em;background-color: #f0f8ff;}#sk-container-id-1 input.sk-toggleable__control:checked~div.sk-toggleable__content {max-height: 200px;max-width: 100%;overflow: auto;}#sk-container-id-1 input.sk-toggleable__control:checked~label.sk-toggleable__label-arrow:before {content: \"▾\";}#sk-container-id-1 div.sk-estimator input.sk-toggleable__control:checked~label.sk-toggleable__label {background-color: #d4ebff;}#sk-container-id-1 div.sk-label input.sk-toggleable__control:checked~label.sk-toggleable__label {background-color: #d4ebff;}#sk-container-id-1 input.sk-hidden--visually {border: 0;clip: rect(1px 1px 1px 1px);clip: rect(1px, 1px, 1px, 1px);height: 1px;margin: -1px;overflow: hidden;padding: 0;position: absolute;width: 1px;}#sk-container-id-1 div.sk-estimator {font-family: monospace;background-color: #f0f8ff;border: 1px dotted black;border-radius: 0.25em;box-sizing: border-box;margin-bottom: 0.5em;}#sk-container-id-1 div.sk-estimator:hover {background-color: #d4ebff;}#sk-container-id-1 div.sk-parallel-item::after {content: \"\";width: 100%;border-bottom: 1px solid gray;flex-grow: 1;}#sk-container-id-1 div.sk-label:hover label.sk-toggleable__label {background-color: #d4ebff;}#sk-container-id-1 div.sk-serial::before {content: \"\";position: absolute;border-left: 1px solid gray;box-sizing: border-box;top: 0;bottom: 0;left: 50%;z-index: 0;}#sk-container-id-1 div.sk-serial {display: flex;flex-direction: column;align-items: center;background-color: white;padding-right: 0.2em;padding-left: 0.2em;position: relative;}#sk-container-id-1 div.sk-item {position: relative;z-index: 1;}#sk-container-id-1 div.sk-parallel {display: flex;align-items: stretch;justify-content: center;background-color: white;position: relative;}#sk-container-id-1 div.sk-item::before, #sk-container-id-1 div.sk-parallel-item::before {content: \"\";position: absolute;border-left: 1px solid gray;box-sizing: border-box;top: 0;bottom: 0;left: 50%;z-index: -1;}#sk-container-id-1 div.sk-parallel-item {display: flex;flex-direction: column;z-index: 1;position: relative;background-color: white;}#sk-container-id-1 div.sk-parallel-item:first-child::after {align-self: flex-end;width: 50%;}#sk-container-id-1 div.sk-parallel-item:last-child::after {align-self: flex-start;width: 50%;}#sk-container-id-1 div.sk-parallel-item:only-child::after {width: 0;}#sk-container-id-1 div.sk-dashed-wrapped {border: 1px dashed gray;margin: 0 0.4em 0.5em 0.4em;box-sizing: border-box;padding-bottom: 0.4em;background-color: white;}#sk-container-id-1 div.sk-label label {font-family: monospace;font-weight: bold;display: inline-block;line-height: 1.2em;}#sk-container-id-1 div.sk-label-container {text-align: center;}#sk-container-id-1 div.sk-container {/* jupyter's `normalize.less` sets `[hidden] { display: none; }` but bootstrap.min.css set `[hidden] { display: none !important; }` so we also need the `!important` here to be able to override the default hidden behavior on the sphinx rendered scikit-learn.org. See: https://github.com/scikit-learn/scikit-learn/issues/21755 */display: inline-block !important;position: relative;}#sk-container-id-1 div.sk-text-repr-fallback {display: none;}</style><div id=\"sk-container-id-1\" class=\"sk-top-container\"><div class=\"sk-text-repr-fallback\"><pre>LogisticRegression()</pre><b>In a Jupyter environment, please rerun this cell to show the HTML representation or trust the notebook. <br />On GitHub, the HTML representation is unable to render, please try loading this page with nbviewer.org.</b></div><div class=\"sk-container\" hidden><div class=\"sk-item\"><div class=\"sk-estimator sk-toggleable\"><input class=\"sk-toggleable__control sk-hidden--visually\" id=\"sk-estimator-id-1\" type=\"checkbox\" checked><label for=\"sk-estimator-id-1\" class=\"sk-toggleable__label sk-toggleable__label-arrow\">LogisticRegression</label><div class=\"sk-toggleable__content\"><pre>LogisticRegression()</pre></div></div></div></div></div>"
      ],
      "text/plain": [
       "LogisticRegression()"
      ]
     },
     "execution_count": 29,
     "metadata": {},
     "output_type": "execute_result"
    }
   ],
   "source": [
    "lr = LogisticRegression()\n",
    "lr.fit(X_train, y_train)"
   ]
  },
  {
   "cell_type": "markdown",
   "id": "3cd67976",
   "metadata": {},
   "source": [
    "# PREDICTION MODEL"
   ]
  },
  {
   "cell_type": "code",
   "execution_count": 30,
   "id": "2aa1388c",
   "metadata": {},
   "outputs": [],
   "source": [
    "y_pred=lr.predict(X_test)"
   ]
  },
  {
   "cell_type": "code",
   "execution_count": 31,
   "id": "33af5065",
   "metadata": {},
   "outputs": [
    {
     "data": {
      "text/plain": [
       "(364,)"
      ]
     },
     "execution_count": 31,
     "metadata": {},
     "output_type": "execute_result"
    }
   ],
   "source": [
    "y_pred.shape"
   ]
  },
  {
   "cell_type": "code",
   "execution_count": 32,
   "id": "36275512",
   "metadata": {},
   "outputs": [
    {
     "data": {
      "text/plain": [
       "array([0, 0, 1, 0, 0, 0, 0, 0, 0, 0, 0, 0, 0, 1, 1, 1, 0, 0, 0, 0, 0, 0,\n",
       "       1, 0, 0, 0, 1, 1, 0, 0, 0, 0, 0, 0, 0, 0, 1, 1, 1, 0, 1, 0, 0, 0,\n",
       "       0, 1, 1, 0, 1, 0, 0, 1, 0, 1, 0, 0, 0, 0, 1, 0, 0, 0, 1, 1, 1, 0,\n",
       "       0, 0, 0, 0, 0, 0, 1, 0, 1, 1, 0, 0, 0, 0, 1, 0, 0, 0, 0, 1, 1, 1,\n",
       "       0, 0, 1, 0, 0, 0, 0, 1, 0, 0, 1, 0, 0, 0, 0, 0, 0, 0, 0, 1, 1, 0,\n",
       "       0, 0, 0, 0, 0, 0, 0, 0, 0, 0, 0, 0, 0, 0, 1, 0, 0, 1, 0, 0, 1, 0,\n",
       "       0, 0, 0, 0, 1, 0, 0, 0, 0, 0, 0, 0, 0, 0, 1, 0, 0, 0, 0, 0, 0, 0,\n",
       "       0, 0, 0, 0, 0, 0, 0, 1, 0, 0, 0, 1, 1, 0, 0, 0, 0, 0, 0, 0, 1, 1,\n",
       "       1, 0, 0, 0, 0, 0, 1, 0, 0, 0, 1, 0, 0, 1, 1, 1, 1, 1, 1, 0, 1, 0,\n",
       "       1, 0, 0, 0, 0, 1, 0, 0, 0, 0, 0, 0, 0, 0, 0, 0, 0, 1, 0, 0, 0, 0,\n",
       "       1, 0, 0, 0, 1, 0, 0, 0, 1, 1, 0, 0, 1, 0, 0, 0, 0, 1, 0, 1, 0, 1,\n",
       "       1, 0, 1, 0, 1, 1, 0, 0, 0, 0, 0, 1, 0, 1, 0, 1, 0, 0, 1, 0, 0, 1,\n",
       "       0, 0, 0, 0, 1, 0, 0, 0, 0, 0, 0, 0, 0, 0, 0, 1, 0, 0, 1, 0, 0, 0,\n",
       "       0, 1, 0, 0, 1, 0, 0, 0, 0, 0, 0, 0, 0, 1, 0, 0, 0, 0, 0, 0, 0, 0,\n",
       "       0, 0, 1, 1, 0, 0, 0, 0, 1, 0, 0, 0, 1, 0, 0, 0, 1, 1, 0, 0, 1, 0,\n",
       "       0, 0, 0, 0, 0, 0, 0, 0, 0, 1, 1, 0, 1, 0, 0, 0, 0, 0, 1, 0, 0, 1,\n",
       "       0, 1, 0, 0, 0, 1, 1, 0, 1, 1, 0, 0], dtype=int64)"
      ]
     },
     "execution_count": 32,
     "metadata": {},
     "output_type": "execute_result"
    }
   ],
   "source": [
    "y_pred"
   ]
  },
  {
   "cell_type": "markdown",
   "id": "10017d2e",
   "metadata": {},
   "source": [
    "# GET THE PROBABILITY OF EACH PREDICTED CLASS"
   ]
  },
  {
   "cell_type": "code",
   "execution_count": 33,
   "id": "c42bda39",
   "metadata": {},
   "outputs": [
    {
     "data": {
      "text/plain": [
       "array([[5.04187652e-01, 4.95812348e-01],\n",
       "       [5.06782487e-01, 4.93217513e-01],\n",
       "       [3.28527788e-01, 6.71472212e-01],\n",
       "       [5.03839461e-01, 4.96160539e-01],\n",
       "       [5.01653602e-01, 4.98346398e-01],\n",
       "       [5.03858004e-01, 4.96141996e-01],\n",
       "       [5.33471674e-01, 4.66528326e-01],\n",
       "       [5.03896926e-01, 4.96103074e-01],\n",
       "       [5.03914375e-01, 4.96085625e-01],\n",
       "       [5.03911243e-01, 4.96088757e-01],\n",
       "       [5.00760443e-01, 4.99239557e-01],\n",
       "       [5.03926461e-01, 4.96073539e-01],\n",
       "       [5.09602299e-01, 4.90397701e-01],\n",
       "       [4.62851798e-01, 5.37148202e-01],\n",
       "       [3.75065581e-01, 6.24934419e-01],\n",
       "       [1.39695770e-01, 8.60304230e-01],\n",
       "       [5.03475567e-01, 4.96524433e-01],\n",
       "       [5.04423988e-01, 4.95576012e-01],\n",
       "       [5.01682058e-01, 4.98317942e-01],\n",
       "       [5.03828913e-01, 4.96171087e-01],\n",
       "       [7.20629911e-01, 2.79370089e-01],\n",
       "       [5.07454126e-01, 4.92545874e-01],\n",
       "       [4.45017560e-01, 5.54982440e-01],\n",
       "       [5.03554792e-01, 4.96445208e-01],\n",
       "       [9.99179780e-01, 8.20220490e-04],\n",
       "       [5.03914457e-01, 4.96085543e-01],\n",
       "       [4.95578832e-01, 5.04421168e-01],\n",
       "       [3.10719620e-01, 6.89280380e-01],\n",
       "       [5.03912384e-01, 4.96087616e-01],\n",
       "       [5.03935161e-01, 4.96064839e-01],\n",
       "       [5.31785462e-01, 4.68214538e-01],\n",
       "       [5.03929502e-01, 4.96070498e-01],\n",
       "       [5.03855219e-01, 4.96144781e-01],\n",
       "       [5.03893060e-01, 4.96106940e-01],\n",
       "       [5.03869040e-01, 4.96130960e-01],\n",
       "       [5.03633066e-01, 4.96366934e-01],\n",
       "       [3.96125619e-01, 6.03874381e-01],\n",
       "       [4.93270133e-01, 5.06729867e-01],\n",
       "       [4.80541441e-01, 5.19458559e-01],\n",
       "       [5.03936482e-01, 4.96063518e-01],\n",
       "       [4.34342920e-01, 5.65657080e-01],\n",
       "       [5.89634234e-01, 4.10365766e-01],\n",
       "       [5.03937932e-01, 4.96062068e-01],\n",
       "       [5.58397828e-01, 4.41602172e-01],\n",
       "       [5.03996054e-01, 4.96003946e-01],\n",
       "       [4.82342074e-01, 5.17657926e-01],\n",
       "       [2.51359238e-01, 7.48640762e-01],\n",
       "       [5.03819403e-01, 4.96180597e-01],\n",
       "       [3.21547216e-01, 6.78452784e-01],\n",
       "       [6.22017432e-01, 3.77982568e-01],\n",
       "       [9.23513738e-01, 7.64862617e-02],\n",
       "       [4.97393393e-01, 5.02606607e-01],\n",
       "       [5.03871496e-01, 4.96128504e-01],\n",
       "       [4.86411959e-01, 5.13588041e-01],\n",
       "       [5.03079255e-01, 4.96920745e-01],\n",
       "       [5.01520108e-01, 4.98479892e-01],\n",
       "       [5.88257030e-01, 4.11742970e-01],\n",
       "       [5.03525441e-01, 4.96474559e-01],\n",
       "       [4.85905366e-01, 5.14094634e-01],\n",
       "       [5.03788633e-01, 4.96211367e-01],\n",
       "       [5.10843335e-01, 4.89156665e-01],\n",
       "       [7.42629057e-01, 2.57370943e-01],\n",
       "       [4.94132089e-01, 5.05867911e-01],\n",
       "       [4.98232259e-01, 5.01767741e-01],\n",
       "       [3.38356200e-01, 6.61643800e-01],\n",
       "       [5.03735400e-01, 4.96264600e-01],\n",
       "       [5.98746528e-01, 4.01253472e-01],\n",
       "       [5.26307908e-01, 4.73692092e-01],\n",
       "       [5.05774580e-01, 4.94225420e-01],\n",
       "       [5.03846734e-01, 4.96153266e-01],\n",
       "       [5.06105795e-01, 4.93894205e-01],\n",
       "       [5.03928638e-01, 4.96071362e-01],\n",
       "       [1.27344389e-01, 8.72655611e-01],\n",
       "       [5.02917119e-01, 4.97082881e-01],\n",
       "       [3.67311192e-01, 6.32688808e-01],\n",
       "       [4.22002395e-01, 5.77997605e-01],\n",
       "       [5.39533822e-01, 4.60466178e-01],\n",
       "       [5.03885212e-01, 4.96114788e-01],\n",
       "       [5.03708534e-01, 4.96291466e-01],\n",
       "       [5.03876329e-01, 4.96123671e-01],\n",
       "       [4.95554721e-01, 5.04445279e-01],\n",
       "       [5.03606599e-01, 4.96393401e-01],\n",
       "       [5.04140200e-01, 4.95859800e-01],\n",
       "       [5.03323657e-01, 4.96676343e-01],\n",
       "       [5.04086006e-01, 4.95913994e-01],\n",
       "       [4.50491871e-01, 5.49508129e-01],\n",
       "       [3.42373583e-01, 6.57626417e-01],\n",
       "       [1.07472504e-01, 8.92527496e-01],\n",
       "       [5.03371119e-01, 4.96628881e-01],\n",
       "       [8.05789564e-01, 1.94210436e-01],\n",
       "       [1.53843492e-01, 8.46156508e-01],\n",
       "       [5.05464535e-01, 4.94535465e-01],\n",
       "       [5.03919813e-01, 4.96080187e-01],\n",
       "       [5.01884294e-01, 4.98115706e-01],\n",
       "       [5.04366747e-01, 4.95633253e-01],\n",
       "       [4.95690635e-01, 5.04309365e-01],\n",
       "       [5.04034382e-01, 4.95965618e-01],\n",
       "       [5.03990533e-01, 4.96009467e-01],\n",
       "       [4.19129059e-01, 5.80870941e-01],\n",
       "       [5.03843403e-01, 4.96156597e-01],\n",
       "       [5.03837618e-01, 4.96162382e-01],\n",
       "       [5.03927874e-01, 4.96072126e-01],\n",
       "       [5.03913789e-01, 4.96086211e-01],\n",
       "       [5.03178563e-01, 4.96821437e-01],\n",
       "       [5.03913167e-01, 4.96086833e-01],\n",
       "       [5.04435497e-01, 4.95564503e-01],\n",
       "       [6.31088922e-01, 3.68911078e-01],\n",
       "       [2.39925043e-01, 7.60074957e-01],\n",
       "       [3.42079717e-01, 6.57920283e-01],\n",
       "       [5.03891101e-01, 4.96108899e-01],\n",
       "       [5.03894202e-01, 4.96105798e-01],\n",
       "       [5.01464167e-01, 4.98535833e-01],\n",
       "       [5.79345449e-01, 4.20654551e-01],\n",
       "       [5.80735195e-01, 4.19264805e-01],\n",
       "       [5.92636475e-01, 4.07363525e-01],\n",
       "       [5.04777092e-01, 4.95222908e-01],\n",
       "       [6.34882661e-01, 3.65117339e-01],\n",
       "       [5.02274705e-01, 4.97725295e-01],\n",
       "       [5.03719752e-01, 4.96280248e-01],\n",
       "       [5.06384881e-01, 4.93615119e-01],\n",
       "       [5.07855841e-01, 4.92144159e-01],\n",
       "       [5.05157932e-01, 4.94842068e-01],\n",
       "       [5.03936693e-01, 4.96063307e-01],\n",
       "       [7.83958109e-01, 2.16041891e-01],\n",
       "       [4.55813488e-01, 5.44186512e-01],\n",
       "       [5.53070593e-01, 4.46929407e-01],\n",
       "       [5.03295920e-01, 4.96704080e-01],\n",
       "       [1.66683796e-01, 8.33316204e-01],\n",
       "       [5.03883098e-01, 4.96116902e-01],\n",
       "       [5.02988825e-01, 4.97011175e-01],\n",
       "       [4.16186794e-01, 5.83813206e-01],\n",
       "       [5.03680457e-01, 4.96319543e-01],\n",
       "       [5.03045479e-01, 4.96954521e-01],\n",
       "       [9.35324487e-01, 6.46755129e-02],\n",
       "       [7.31627782e-01, 2.68372218e-01],\n",
       "       [5.04073951e-01, 4.95926049e-01],\n",
       "       [4.57994037e-01, 5.42005963e-01],\n",
       "       [5.04097712e-01, 4.95902288e-01],\n",
       "       [5.63551110e-01, 4.36448890e-01],\n",
       "       [5.03084017e-01, 4.96915983e-01],\n",
       "       [5.02537261e-01, 4.97462739e-01],\n",
       "       [5.04270025e-01, 4.95729975e-01],\n",
       "       [5.05060561e-01, 4.94939439e-01],\n",
       "       [5.03926360e-01, 4.96073640e-01],\n",
       "       [5.04474492e-01, 4.95525508e-01],\n",
       "       [5.04268442e-01, 4.95731558e-01],\n",
       "       [2.28570542e-01, 7.71429458e-01],\n",
       "       [5.03902022e-01, 4.96097978e-01],\n",
       "       [5.11292662e-01, 4.88707338e-01],\n",
       "       [5.04028775e-01, 4.95971225e-01],\n",
       "       [7.92578092e-01, 2.07421908e-01],\n",
       "       [5.03945554e-01, 4.96054446e-01],\n",
       "       [5.04825636e-01, 4.95174364e-01],\n",
       "       [5.03514619e-01, 4.96485381e-01],\n",
       "       [5.03908258e-01, 4.96091742e-01],\n",
       "       [5.03822188e-01, 4.96177812e-01],\n",
       "       [5.03215414e-01, 4.96784586e-01],\n",
       "       [5.04055286e-01, 4.95944714e-01],\n",
       "       [5.03902086e-01, 4.96097914e-01],\n",
       "       [5.03861676e-01, 4.96138324e-01],\n",
       "       [5.38447795e-01, 4.61552205e-01],\n",
       "       [2.07989503e-01, 7.92010497e-01],\n",
       "       [5.05016596e-01, 4.94983404e-01],\n",
       "       [5.05295217e-01, 4.94704783e-01],\n",
       "       [5.04933638e-01, 4.95066362e-01],\n",
       "       [4.99353933e-01, 5.00646067e-01],\n",
       "       [2.89505334e-01, 7.10494666e-01],\n",
       "       [5.03327881e-01, 4.96672119e-01],\n",
       "       [5.05597779e-01, 4.94402221e-01],\n",
       "       [5.04071934e-01, 4.95928066e-01],\n",
       "       [5.03999583e-01, 4.96000417e-01],\n",
       "       [5.03832984e-01, 4.96167016e-01],\n",
       "       [5.04068661e-01, 4.95931339e-01],\n",
       "       [8.26540919e-01, 1.73459081e-01],\n",
       "       [2.74229879e-02, 9.72577012e-01],\n",
       "       [4.98481710e-01, 5.01518290e-01],\n",
       "       [4.59243547e-01, 5.40756453e-01],\n",
       "       [5.04761801e-01, 4.95238199e-01],\n",
       "       [5.03834239e-01, 4.96165761e-01],\n",
       "       [5.00048291e-01, 4.99951709e-01],\n",
       "       [5.14752211e-01, 4.85247789e-01],\n",
       "       [5.04651652e-01, 4.95348348e-01],\n",
       "       [4.82555816e-01, 5.17444184e-01],\n",
       "       [5.22550041e-01, 4.77449959e-01],\n",
       "       [5.02464889e-01, 4.97535111e-01],\n",
       "       [5.03758119e-01, 4.96241881e-01],\n",
       "       [4.59145181e-01, 5.40854819e-01],\n",
       "       [5.03915636e-01, 4.96084364e-01],\n",
       "       [5.04195142e-01, 4.95804858e-01],\n",
       "       [4.87482814e-01, 5.12517186e-01],\n",
       "       [4.89091289e-01, 5.10908711e-01],\n",
       "       [4.99351137e-01, 5.00648863e-01],\n",
       "       [4.86299422e-01, 5.13700578e-01],\n",
       "       [4.86306291e-01, 5.13693709e-01],\n",
       "       [4.82160118e-01, 5.17839882e-01],\n",
       "       [5.04398375e-01, 4.95601625e-01],\n",
       "       [4.95890816e-01, 5.04109184e-01],\n",
       "       [8.07543407e-01, 1.92456593e-01],\n",
       "       [4.51679900e-01, 5.48320100e-01],\n",
       "       [5.03366401e-01, 4.96633599e-01],\n",
       "       [5.23657149e-01, 4.76342851e-01],\n",
       "       [5.03965163e-01, 4.96034837e-01],\n",
       "       [5.04393313e-01, 4.95606687e-01],\n",
       "       [3.84821302e-01, 6.15178698e-01],\n",
       "       [5.03885432e-01, 4.96114568e-01],\n",
       "       [5.03871933e-01, 4.96128067e-01],\n",
       "       [5.03903975e-01, 4.96096025e-01],\n",
       "       [5.05822511e-01, 4.94177489e-01],\n",
       "       [5.06650609e-01, 4.93349391e-01],\n",
       "       [5.03491080e-01, 4.96508920e-01],\n",
       "       [6.48215329e-01, 3.51784671e-01],\n",
       "       [5.03753864e-01, 4.96246136e-01],\n",
       "       [5.09389718e-01, 4.90610282e-01],\n",
       "       [5.03916546e-01, 4.96083454e-01],\n",
       "       [5.03895092e-01, 4.96104908e-01],\n",
       "       [2.13742169e-01, 7.86257831e-01],\n",
       "       [5.03948657e-01, 4.96051343e-01],\n",
       "       [5.04868471e-01, 4.95131529e-01],\n",
       "       [6.73486216e-01, 3.26513784e-01],\n",
       "       [5.03870464e-01, 4.96129536e-01],\n",
       "       [9.65911805e-02, 9.03408820e-01],\n",
       "       [5.67704444e-01, 4.32295556e-01],\n",
       "       [5.03924925e-01, 4.96075075e-01],\n",
       "       [5.06001985e-01, 4.93998015e-01],\n",
       "       [4.99323592e-01, 5.00676408e-01],\n",
       "       [5.04674002e-01, 4.95325998e-01],\n",
       "       [5.04115489e-01, 4.95884511e-01],\n",
       "       [5.49571199e-01, 4.50428801e-01],\n",
       "       [3.03116754e-01, 6.96883246e-01],\n",
       "       [4.72627020e-01, 5.27372980e-01],\n",
       "       [5.28619453e-01, 4.71380547e-01],\n",
       "       [5.25043661e-01, 4.74956339e-01],\n",
       "       [4.80318626e-01, 5.19681374e-01],\n",
       "       [5.03889850e-01, 4.96110150e-01],\n",
       "       [5.04018408e-01, 4.95981592e-01],\n",
       "       [5.03674830e-01, 4.96325170e-01],\n",
       "       [5.03963820e-01, 4.96036180e-01],\n",
       "       [6.20447511e-03, 9.93795525e-01],\n",
       "       [5.02344325e-01, 4.97655675e-01],\n",
       "       [4.95913875e-01, 5.04086125e-01],\n",
       "       [5.03866420e-01, 4.96133580e-01],\n",
       "       [3.71415968e-01, 6.28584032e-01],\n",
       "       [4.80692944e-01, 5.19307056e-01],\n",
       "       [9.04351239e-01, 9.56487610e-02],\n",
       "       [4.93678135e-01, 5.06321865e-01],\n",
       "       [5.03887458e-01, 4.96112542e-01],\n",
       "       [4.76154892e-01, 5.23845108e-01],\n",
       "       [4.66905396e-01, 5.33094604e-01],\n",
       "       [5.03892026e-01, 4.96107974e-01],\n",
       "       [5.15336787e-01, 4.84663213e-01],\n",
       "       [5.29002578e-01, 4.70997422e-01],\n",
       "       [5.03971299e-01, 4.96028701e-01],\n",
       "       [5.03839400e-01, 4.96160600e-01],\n",
       "       [4.39986679e-01, 5.60013321e-01],\n",
       "       [7.08574090e-01, 2.91425910e-01],\n",
       "       [1.58810822e-01, 8.41189178e-01],\n",
       "       [5.03754464e-01, 4.96245536e-01],\n",
       "       [4.40152676e-01, 5.59847324e-01],\n",
       "       [5.02971824e-01, 4.97028176e-01],\n",
       "       [5.04036700e-01, 4.95963300e-01],\n",
       "       [4.45495909e-01, 5.54504091e-01],\n",
       "       [5.08040510e-01, 4.91959490e-01],\n",
       "       [5.03469058e-01, 4.96530942e-01],\n",
       "       [8.41431591e-02, 9.15856841e-01],\n",
       "       [5.16467943e-01, 4.83532057e-01],\n",
       "       [5.10341173e-01, 4.89658827e-01],\n",
       "       [5.03944610e-01, 4.96055390e-01],\n",
       "       [5.04403244e-01, 4.95596756e-01],\n",
       "       [2.48530125e-02, 9.75146988e-01],\n",
       "       [5.03935261e-01, 4.96064739e-01],\n",
       "       [5.03881861e-01, 4.96118139e-01],\n",
       "       [5.07543785e-01, 4.92456215e-01],\n",
       "       [7.65365800e-01, 2.34634200e-01],\n",
       "       [5.64215778e-01, 4.35784222e-01],\n",
       "       [5.14629817e-01, 4.85370183e-01],\n",
       "       [5.32746273e-01, 4.67253727e-01],\n",
       "       [5.04504302e-01, 4.95495698e-01],\n",
       "       [5.73823193e-01, 4.26176807e-01],\n",
       "       [5.03835392e-01, 4.96164608e-01],\n",
       "       [2.78677248e-01, 7.21322752e-01],\n",
       "       [5.04834019e-01, 4.95165981e-01],\n",
       "       [5.37639058e-01, 4.62360942e-01],\n",
       "       [4.90876052e-01, 5.09123948e-01],\n",
       "       [5.00156001e-01, 4.99843999e-01],\n",
       "       [5.04051130e-01, 4.95948870e-01],\n",
       "       [5.36220797e-01, 4.63779203e-01],\n",
       "       [5.23500423e-01, 4.76499577e-01],\n",
       "       [4.56772482e-01, 5.43227518e-01],\n",
       "       [5.03982626e-01, 4.96017374e-01],\n",
       "       [5.21935645e-01, 4.78064355e-01],\n",
       "       [1.11590831e-01, 8.88409169e-01],\n",
       "       [5.03918731e-01, 4.96081269e-01],\n",
       "       [5.04068645e-01, 4.95931355e-01],\n",
       "       [5.03698310e-01, 4.96301690e-01],\n",
       "       [5.58218912e-01, 4.41781088e-01],\n",
       "       [5.11808278e-01, 4.88191722e-01],\n",
       "       [5.39617503e-01, 4.60382497e-01],\n",
       "       [5.03447043e-01, 4.96552957e-01],\n",
       "       [5.04301740e-01, 4.95698260e-01],\n",
       "       [4.05980628e-01, 5.94019372e-01],\n",
       "       [5.11778504e-01, 4.88221496e-01],\n",
       "       [5.03883886e-01, 4.96116114e-01],\n",
       "       [5.03900401e-01, 4.96099599e-01],\n",
       "       [5.07096675e-01, 4.92903325e-01],\n",
       "       [9.97866026e-01, 2.13397389e-03],\n",
       "       [5.27102114e-01, 4.72897886e-01],\n",
       "       [5.02018115e-01, 4.97981885e-01],\n",
       "       [5.03602868e-01, 4.96397132e-01],\n",
       "       [5.03997342e-01, 4.96002658e-01],\n",
       "       [9.60654884e-01, 3.93451165e-02],\n",
       "       [2.51561244e-01, 7.48438756e-01],\n",
       "       [2.82680862e-01, 7.17319138e-01],\n",
       "       [5.03835296e-01, 4.96164704e-01],\n",
       "       [5.82610359e-01, 4.17389641e-01],\n",
       "       [5.03799228e-01, 4.96200772e-01],\n",
       "       [5.01487454e-01, 4.98512546e-01],\n",
       "       [4.96189891e-01, 5.03810109e-01],\n",
       "       [5.18127656e-01, 4.81872344e-01],\n",
       "       [6.15772701e-01, 3.84227299e-01],\n",
       "       [5.03005881e-01, 4.96994119e-01],\n",
       "       [1.76534585e-01, 8.23465415e-01],\n",
       "       [5.03957236e-01, 4.96042764e-01],\n",
       "       [5.22648862e-01, 4.77351138e-01],\n",
       "       [5.03933233e-01, 4.96066767e-01],\n",
       "       [3.22846931e-01, 6.77153069e-01],\n",
       "       [4.78717831e-01, 5.21282169e-01],\n",
       "       [5.03096877e-01, 4.96903123e-01],\n",
       "       [5.04562788e-01, 4.95437212e-01],\n",
       "       [4.98733199e-01, 5.01266801e-01],\n",
       "       [5.03927465e-01, 4.96072535e-01],\n",
       "       [5.06149663e-01, 4.93850337e-01],\n",
       "       [8.65367876e-01, 1.34632124e-01],\n",
       "       [5.03643174e-01, 4.96356826e-01],\n",
       "       [5.77331056e-01, 4.22668944e-01],\n",
       "       [5.03956043e-01, 4.96043957e-01],\n",
       "       [5.03268095e-01, 4.96731905e-01],\n",
       "       [9.86618190e-01, 1.33818099e-02],\n",
       "       [7.30094232e-01, 2.69905768e-01],\n",
       "       [5.14171721e-01, 4.85828279e-01],\n",
       "       [1.99476244e-01, 8.00523756e-01],\n",
       "       [4.56342707e-01, 5.43657293e-01],\n",
       "       [5.03940930e-01, 4.96059070e-01],\n",
       "       [2.61636376e-01, 7.38363624e-01],\n",
       "       [5.03587846e-01, 4.96412154e-01],\n",
       "       [5.03740839e-01, 4.96259161e-01],\n",
       "       [5.04068877e-01, 4.95931123e-01],\n",
       "       [5.04163299e-01, 4.95836701e-01],\n",
       "       [5.04545733e-01, 4.95454267e-01],\n",
       "       [4.98149298e-01, 5.01850702e-01],\n",
       "       [5.03781591e-01, 4.96218409e-01],\n",
       "       [5.25004114e-01, 4.74995886e-01],\n",
       "       [4.83835208e-01, 5.16164792e-01],\n",
       "       [5.00388240e-01, 4.99611760e-01],\n",
       "       [3.06464307e-01, 6.93535693e-01],\n",
       "       [5.03970665e-01, 4.96029335e-01],\n",
       "       [5.03081200e-01, 4.96918800e-01],\n",
       "       [5.79093951e-01, 4.20906049e-01],\n",
       "       [4.91166481e-01, 5.08833519e-01],\n",
       "       [4.88926297e-01, 5.11073703e-01],\n",
       "       [5.63278130e-01, 4.36721870e-01],\n",
       "       [4.20899104e-01, 5.79100896e-01],\n",
       "       [1.75812274e-01, 8.24187726e-01],\n",
       "       [5.34856143e-01, 4.65143857e-01],\n",
       "       [5.04029730e-01, 4.95970270e-01]])"
      ]
     },
     "execution_count": 33,
     "metadata": {},
     "output_type": "execute_result"
    }
   ],
   "source": [
    "lr.predict_proba(X_test)"
   ]
  },
  {
   "cell_type": "markdown",
   "id": "c0d0dd74",
   "metadata": {},
   "source": [
    "# EVALUATION MODEL"
   ]
  },
  {
   "cell_type": "code",
   "execution_count": 34,
   "id": "97bdd12c",
   "metadata": {},
   "outputs": [],
   "source": [
    "from sklearn.metrics import confusion_matrix, classification_report"
   ]
  },
  {
   "cell_type": "code",
   "execution_count": 35,
   "id": "d8aba7f3",
   "metadata": {},
   "outputs": [
    {
     "name": "stdout",
     "output_type": "stream",
     "text": [
      "[[176   6]\n",
      " [ 93  89]]\n"
     ]
    }
   ],
   "source": [
    "print(confusion_matrix(y_test,y_pred))"
   ]
  },
  {
   "cell_type": "code",
   "execution_count": 36,
   "id": "5b4a0be3",
   "metadata": {},
   "outputs": [
    {
     "name": "stdout",
     "output_type": "stream",
     "text": [
      "              precision    recall  f1-score   support\n",
      "\n",
      "           0       0.65      0.97      0.78       182\n",
      "           1       0.94      0.49      0.64       182\n",
      "\n",
      "    accuracy                           0.73       364\n",
      "   macro avg       0.80      0.73      0.71       364\n",
      "weighted avg       0.80      0.73      0.71       364\n",
      "\n"
     ]
    }
   ],
   "source": [
    "print(classification_report(y_test,y_pred))"
   ]
  },
  {
   "cell_type": "markdown",
   "id": "8b977fd5",
   "metadata": {},
   "source": [
    "# FEATURE PREDICTION"
   ]
  },
  {
   "cell_type": "code",
   "execution_count": 37,
   "id": "008a658b",
   "metadata": {},
   "outputs": [],
   "source": [
    "X_new = df.sample(1)"
   ]
  },
  {
   "cell_type": "code",
   "execution_count": 38,
   "id": "603938be",
   "metadata": {},
   "outputs": [
    {
     "data": {
      "text/html": [
       "<div>\n",
       "<style scoped>\n",
       "    .dataframe tbody tr th:only-of-type {\n",
       "        vertical-align: middle;\n",
       "    }\n",
       "\n",
       "    .dataframe tbody tr th {\n",
       "        vertical-align: top;\n",
       "    }\n",
       "\n",
       "    .dataframe thead th {\n",
       "        text-align: right;\n",
       "    }\n",
       "</style>\n",
       "<table border=\"1\" class=\"dataframe\">\n",
       "  <thead>\n",
       "    <tr style=\"text-align: right;\">\n",
       "      <th></th>\n",
       "      <th>V1</th>\n",
       "      <th>V2</th>\n",
       "      <th>V3</th>\n",
       "      <th>V4</th>\n",
       "      <th>V5</th>\n",
       "      <th>V6</th>\n",
       "      <th>V7</th>\n",
       "      <th>V8</th>\n",
       "      <th>V9</th>\n",
       "      <th>V10</th>\n",
       "      <th>...</th>\n",
       "      <th>V92</th>\n",
       "      <th>V93</th>\n",
       "      <th>V94</th>\n",
       "      <th>V95</th>\n",
       "      <th>V96</th>\n",
       "      <th>V97</th>\n",
       "      <th>V98</th>\n",
       "      <th>V99</th>\n",
       "      <th>V100</th>\n",
       "      <th>Class</th>\n",
       "    </tr>\n",
       "  </thead>\n",
       "  <tbody>\n",
       "    <tr>\n",
       "      <th>392</th>\n",
       "      <td>512.55</td>\n",
       "      <td>487.74</td>\n",
       "      <td>518.41</td>\n",
       "      <td>492.54</td>\n",
       "      <td>505.37</td>\n",
       "      <td>505.29</td>\n",
       "      <td>483.97</td>\n",
       "      <td>493.62</td>\n",
       "      <td>501.59</td>\n",
       "      <td>501.7</td>\n",
       "      <td>...</td>\n",
       "      <td>487.43</td>\n",
       "      <td>504.98</td>\n",
       "      <td>513.54</td>\n",
       "      <td>486.34</td>\n",
       "      <td>512.87</td>\n",
       "      <td>495.47</td>\n",
       "      <td>512.4</td>\n",
       "      <td>493.57</td>\n",
       "      <td>495.04</td>\n",
       "      <td>0</td>\n",
       "    </tr>\n",
       "  </tbody>\n",
       "</table>\n",
       "<p>1 rows × 101 columns</p>\n",
       "</div>"
      ],
      "text/plain": [
       "         V1      V2      V3      V4      V5      V6      V7      V8      V9  \\\n",
       "392  512.55  487.74  518.41  492.54  505.37  505.29  483.97  493.62  501.59   \n",
       "\n",
       "       V10  ...     V92     V93     V94     V95     V96     V97    V98  \\\n",
       "392  501.7  ...  487.43  504.98  513.54  486.34  512.87  495.47  512.4   \n",
       "\n",
       "        V99    V100  Class  \n",
       "392  493.57  495.04      0  \n",
       "\n",
       "[1 rows x 101 columns]"
      ]
     },
     "execution_count": 38,
     "metadata": {},
     "output_type": "execute_result"
    }
   ],
   "source": [
    "X_new"
   ]
  },
  {
   "cell_type": "code",
   "execution_count": 39,
   "id": "dacd0ab2",
   "metadata": {},
   "outputs": [
    {
     "data": {
      "text/plain": [
       "(1, 101)"
      ]
     },
     "execution_count": 39,
     "metadata": {},
     "output_type": "execute_result"
    }
   ],
   "source": [
    "X_new.shape"
   ]
  },
  {
   "cell_type": "code",
   "execution_count": 40,
   "id": "b0ac17dd",
   "metadata": {},
   "outputs": [],
   "source": [
    "X_new=X_new.drop('Class', axis=1)"
   ]
  },
  {
   "cell_type": "code",
   "execution_count": 41,
   "id": "5b6f572a",
   "metadata": {},
   "outputs": [
    {
     "data": {
      "text/html": [
       "<div>\n",
       "<style scoped>\n",
       "    .dataframe tbody tr th:only-of-type {\n",
       "        vertical-align: middle;\n",
       "    }\n",
       "\n",
       "    .dataframe tbody tr th {\n",
       "        vertical-align: top;\n",
       "    }\n",
       "\n",
       "    .dataframe thead th {\n",
       "        text-align: right;\n",
       "    }\n",
       "</style>\n",
       "<table border=\"1\" class=\"dataframe\">\n",
       "  <thead>\n",
       "    <tr style=\"text-align: right;\">\n",
       "      <th></th>\n",
       "      <th>V1</th>\n",
       "      <th>V2</th>\n",
       "      <th>V3</th>\n",
       "      <th>V4</th>\n",
       "      <th>V5</th>\n",
       "      <th>V6</th>\n",
       "      <th>V7</th>\n",
       "      <th>V8</th>\n",
       "      <th>V9</th>\n",
       "      <th>V10</th>\n",
       "      <th>...</th>\n",
       "      <th>V91</th>\n",
       "      <th>V92</th>\n",
       "      <th>V93</th>\n",
       "      <th>V94</th>\n",
       "      <th>V95</th>\n",
       "      <th>V96</th>\n",
       "      <th>V97</th>\n",
       "      <th>V98</th>\n",
       "      <th>V99</th>\n",
       "      <th>V100</th>\n",
       "    </tr>\n",
       "  </thead>\n",
       "  <tbody>\n",
       "    <tr>\n",
       "      <th>392</th>\n",
       "      <td>512.55</td>\n",
       "      <td>487.74</td>\n",
       "      <td>518.41</td>\n",
       "      <td>492.54</td>\n",
       "      <td>505.37</td>\n",
       "      <td>505.29</td>\n",
       "      <td>483.97</td>\n",
       "      <td>493.62</td>\n",
       "      <td>501.59</td>\n",
       "      <td>501.7</td>\n",
       "      <td>...</td>\n",
       "      <td>519.37</td>\n",
       "      <td>487.43</td>\n",
       "      <td>504.98</td>\n",
       "      <td>513.54</td>\n",
       "      <td>486.34</td>\n",
       "      <td>512.87</td>\n",
       "      <td>495.47</td>\n",
       "      <td>512.4</td>\n",
       "      <td>493.57</td>\n",
       "      <td>495.04</td>\n",
       "    </tr>\n",
       "  </tbody>\n",
       "</table>\n",
       "<p>1 rows × 100 columns</p>\n",
       "</div>"
      ],
      "text/plain": [
       "         V1      V2      V3      V4      V5      V6      V7      V8      V9  \\\n",
       "392  512.55  487.74  518.41  492.54  505.37  505.29  483.97  493.62  501.59   \n",
       "\n",
       "       V10  ...     V91     V92     V93     V94     V95     V96     V97  \\\n",
       "392  501.7  ...  519.37  487.43  504.98  513.54  486.34  512.87  495.47   \n",
       "\n",
       "       V98     V99    V100  \n",
       "392  512.4  493.57  495.04  \n",
       "\n",
       "[1 rows x 100 columns]"
      ]
     },
     "execution_count": 41,
     "metadata": {},
     "output_type": "execute_result"
    }
   ],
   "source": [
    "X_new"
   ]
  },
  {
   "cell_type": "code",
   "execution_count": 42,
   "id": "024cb3d5",
   "metadata": {},
   "outputs": [
    {
     "data": {
      "text/plain": [
       "(1, 100)"
      ]
     },
     "execution_count": 42,
     "metadata": {},
     "output_type": "execute_result"
    }
   ],
   "source": [
    "X_new.shape"
   ]
  },
  {
   "cell_type": "code",
   "execution_count": 43,
   "id": "95c1a817",
   "metadata": {},
   "outputs": [],
   "source": [
    "X_new = ss.fit_transform(X_new)"
   ]
  },
  {
   "cell_type": "code",
   "execution_count": 44,
   "id": "5528b7b8",
   "metadata": {},
   "outputs": [],
   "source": [
    "y_pred_new=lr.predict(X_new)"
   ]
  },
  {
   "cell_type": "code",
   "execution_count": 45,
   "id": "675d26b6",
   "metadata": {},
   "outputs": [
    {
     "data": {
      "text/plain": [
       "array([1], dtype=int64)"
      ]
     },
     "execution_count": 45,
     "metadata": {},
     "output_type": "execute_result"
    }
   ],
   "source": [
    "y_pred_new"
   ]
  },
  {
   "cell_type": "code",
   "execution_count": 46,
   "id": "51e40296",
   "metadata": {},
   "outputs": [
    {
     "data": {
      "text/plain": [
       "array([[0.49568016, 0.50431984]])"
      ]
     },
     "execution_count": 46,
     "metadata": {},
     "output_type": "execute_result"
    }
   ],
   "source": [
    "lr.predict_proba(X_new)"
   ]
  },
  {
   "cell_type": "markdown",
   "id": "d2e6e2f8",
   "metadata": {},
   "source": [
    "# END"
   ]
  },
  {
   "cell_type": "code",
   "execution_count": null,
   "id": "278ab0cf",
   "metadata": {},
   "outputs": [],
   "source": []
  }
 ],
 "metadata": {
  "kernelspec": {
   "display_name": "Python 3 (ipykernel)",
   "language": "python",
   "name": "python3"
  },
  "language_info": {
   "codemirror_mode": {
    "name": "ipython",
    "version": 3
   },
   "file_extension": ".py",
   "mimetype": "text/x-python",
   "name": "python",
   "nbconvert_exporter": "python",
   "pygments_lexer": "ipython3",
   "version": "3.9.7"
  }
 },
 "nbformat": 4,
 "nbformat_minor": 5
}
